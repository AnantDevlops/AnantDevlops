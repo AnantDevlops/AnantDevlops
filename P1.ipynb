{
  "nbformat": 4,
  "nbformat_minor": 0,
  "metadata": {
    "colab": {
      "provenance": [],
      "collapsed_sections": [],
      "authorship_tag": "ABX9TyM1bfvGCXenCKQGCLabTQS0",
      "include_colab_link": true
    },
    "kernelspec": {
      "name": "python3",
      "display_name": "Python 3"
    },
    "language_info": {
      "name": "python"
    }
  },
  "cells": [
    {
      "cell_type": "markdown",
      "metadata": {
        "id": "view-in-github",
        "colab_type": "text"
      },
      "source": [
        "<a href=\"https://colab.research.google.com/github/AnantDevlops/AnantDevlops/blob/main/P1.ipynb\" target=\"_parent\"><img src=\"https://colab.research.google.com/assets/colab-badge.svg\" alt=\"Open In Colab\"/></a>"
      ]
    },
    {
      "cell_type": "code",
      "source": [
        "#Write a Python program that asks for the baggage weight  and lets the user know \n",
        "#while its weight exceeds the baggage limit of 15 kg. \n",
        "#asks to remove something and say how much removed\n",
        "#recomputes the new weight"
      ],
      "metadata": {
        "id": "6iNG55XY4_J_"
      },
      "execution_count": null,
      "outputs": []
    },
    {
      "cell_type": "code",
      "execution_count": null,
      "metadata": {
        "id": "HNEeeH1liGP1"
      },
      "outputs": [],
      "source": [
        "def recurse():\n",
        "  while True:\n",
        "      try:\n",
        "        weight = float(input(\"Enter Baggae weight :\"))\n",
        "        break\n",
        "      except ValueError:\n",
        "        print(\"Invalid Input\")\n",
        "  if weight < 0:\n",
        "    print(\"Your Baggae Weight Cannot be negative\")\n",
        "    recurse();\n",
        "  elif weight <= 15:\n",
        "    print(\"Your baggae weight is :\",weight)\n",
        "    recurse();\n",
        "  elif weight >15:\n",
        "    print(\"Your Baggae Weight exceded 15 kgs, Please remove some weight\")\n",
        "    removed_weight = float(input(\"Enter Weight to be removed\"))\n",
        "    weight = weight - removed_weight\n",
        "    print(weight)\n",
        "    recurse();\n",
        "recurse(); \n",
        "\n"
      ]
    },
    {
      "cell_type": "code",
      "source": [
        "#add the numbers to 93 using a loop"
      ],
      "metadata": {
        "id": "5QGBYlKpDiXU"
      },
      "execution_count": null,
      "outputs": []
    },
    {
      "cell_type": "code",
      "source": [
        "a = 0\n",
        "for i in range(94):\n",
        "  if(i % 3 == 0 or i % 5 == 0):\n",
        "    a = a + i\n",
        "    print(i)\n",
        "print(a)    "
      ],
      "metadata": {
        "id": "TrqAIoaNDlSY"
      },
      "execution_count": null,
      "outputs": []
    },
    {
      "cell_type": "code",
      "source": [
        "#If we list all the natural numbers below 10 that are multiples of 3 or 5, \n",
        "#we get 3, 5, 6 and 9. The sum of these multiples is 23.\n",
        "\n",
        "#Find the sum of all the multiples of 3 or 5 below 1000."
      ],
      "metadata": {
        "id": "ARwJRVvWEEeo"
      },
      "execution_count": null,
      "outputs": []
    },
    {
      "cell_type": "code",
      "source": [
        "x = 0\n",
        "for i in range(1,1000):\n",
        "  if(i % 3 == 0 or i % 5 ==0):\n",
        "    x = x + i\n",
        "    print(i)\n",
        "print(x)    "
      ],
      "metadata": {
        "id": "qbtqHeQhMkrr"
      },
      "execution_count": null,
      "outputs": []
    },
    {
      "cell_type": "code",
      "source": [
        "#Write a function to find the sum of all the multiples of x or y below n.\n",
        "#where (x,y,n) are parameters to the function"
      ],
      "metadata": {
        "id": "ZUY-hkKVGZjL"
      },
      "execution_count": null,
      "outputs": []
    },
    {
      "cell_type": "code",
      "source": [
        "x = int(input(\"Enter the value of X: \"))\n",
        "y = int(input(\"Enter the value of Y: \"))\n",
        "n = int(input(\"Enter the value of N: \"))\n",
        "\n",
        "def work(x,y,n):\n",
        "  a = 0\n",
        "  for i in range(1,n):\n",
        "    if(i % x == 0 or i % y ==0):\n",
        "      a = a + i\n",
        "      print(i)\n",
        "    print(a)\n",
        "    \n",
        "work(x,y,n)"
      ],
      "metadata": {
        "id": "ucjHF1G8LYpb"
      },
      "execution_count": null,
      "outputs": []
    },
    {
      "cell_type": "code",
      "source": [
        "def doIt(y):\n",
        "  x=13-y\n",
        "  y=3\n",
        "  print('x:',x,'; y:',y)\n",
        "\n",
        "x=5\n",
        "y=6\n",
        "print('x:',x,'; y:',y)\n",
        "doIt(x)\n",
        "print('x:',x,'; y:',y)"
      ],
      "metadata": {
        "colab": {
          "base_uri": "https://localhost:8080/"
        },
        "id": "R7BwqIluMTNh",
        "outputId": "9a1b7e2e-f3ab-4afc-f026-c4dbb2791afc"
      },
      "execution_count": null,
      "outputs": [
        {
          "output_type": "stream",
          "name": "stdout",
          "text": [
            "x: 5 ; y: 6\n",
            "x: 8 ; y: 3\n",
            "x: 5 ; y: 6\n"
          ]
        }
      ]
    },
    {
      "cell_type": "code",
      "source": [
        "#In class exercise: Create a function that returns the sum of the first n numbers, where n is given as function parameter. "
      ],
      "metadata": {
        "id": "g1mSRr8yRPZc"
      },
      "execution_count": null,
      "outputs": []
    },
    {
      "cell_type": "code",
      "source": [
        "n = int(input(\"Enter the value of n : \"))\n",
        "\n",
        "def first(a):\n",
        "  a=0\n",
        "  for i in range(1,n+1):\n",
        "    a = a + i\n",
        "  return a\n",
        " \n",
        "print(first(10))"
      ],
      "metadata": {
        "id": "6wITta7ZXCel"
      },
      "execution_count": null,
      "outputs": []
    },
    {
      "cell_type": "code",
      "source": [
        "#If we list all the natural numbers below 10 that are multiples of 3 or 5, \n",
        "#we get 3, 5, 6 and 9. The sum of these multiples is 23.\n",
        "\n",
        "#Create a function to find the sum of all the multiples of a or b below n.\n",
        "#a,b,n are function parameters"
      ],
      "metadata": {
        "id": "65cM1gIPRU8l"
      },
      "execution_count": null,
      "outputs": []
    },
    {
      "cell_type": "code",
      "source": [
        "a = int(input(\"Enter the value of A: \"))\n",
        "b = int(input(\"Enter the value of B: \"))\n",
        "n = int(input(\"Enter the value of N: \"))\n",
        "\n",
        "def work(a,b,n):\n",
        "  x = 0\n",
        "  for i in range(1,n):\n",
        "    if(i % a == 0 or i % b ==0):\n",
        "      x = x + i\n",
        "      print(i)\n",
        "    print(x)\n",
        "    \n",
        "work(a,b,n)"
      ],
      "metadata": {
        "id": "ChK7j3SkWahI"
      },
      "execution_count": null,
      "outputs": []
    },
    {
      "cell_type": "code",
      "source": [
        "#Create a function to find the sum of all the multiples of a or b in list l.\n",
        "#a,b,l are function parameters\n",
        "\n",
        "a = int(input(\"Enter the value of A: \"))\n",
        "b = int(input(\"Enter the value of B: \"))\n",
        "\n",
        "def work(a,b):\n",
        "  x = 0\n",
        "  l = [2, 3, 5]\n",
        "  for i in l:\n",
        "    if(i % a == 0 or i % b ==0):\n",
        "      x = x + i\n",
        "      print(i)\n",
        "  print(x)\n",
        "    \n",
        "work(a,b)"
      ],
      "metadata": {
        "id": "Ydzh6_1mb-x1",
        "colab": {
          "base_uri": "https://localhost:8080/"
        },
        "outputId": "d1ed3774-d551-42c1-8477-ccf4e8957910"
      },
      "execution_count": null,
      "outputs": [
        {
          "output_type": "stream",
          "name": "stdout",
          "text": [
            "Enter the value of A: 2\n",
            "Enter the value of B: 3\n",
            "2\n",
            "3\n",
            "5\n"
          ]
        }
      ]
    },
    {
      "cell_type": "code",
      "source": [
        "#Create a function to find the sum of all the multiples of numbers in list a\n",
        "#contained in list l\n",
        "#a,l are function parameters and a is of length 2\n",
        "\n",
        "def work():\n",
        "  x = 0\n",
        "  a = [1, 3]\n",
        "  l = [2, 3, 5]\n",
        "  for i in l:\n",
        "    for j in a:\n",
        "      if(i % j == 0 ):\n",
        "        x = x + i\n",
        "        print(i)\n",
        "  print(x)\n",
        "    \n",
        "work()"
      ],
      "metadata": {
        "id": "jZyDTdR-fJol",
        "colab": {
          "base_uri": "https://localhost:8080/"
        },
        "outputId": "bf011b31-8e23-440a-adbc-0405bdc35234"
      },
      "execution_count": null,
      "outputs": [
        {
          "output_type": "stream",
          "name": "stdout",
          "text": [
            "2\n",
            "3\n",
            "3\n",
            "5\n",
            "13\n"
          ]
        }
      ]
    },
    {
      "cell_type": "code",
      "source": [
        "#Create a function to find the sum of all the multiples of numbers in list a\n",
        "#contained in list l\n",
        "#a,l are function parameters\n",
        "\n",
        "\n",
        "def list():\n",
        "  n = int(input('Enter the length of list 1: '))\n",
        "  m = int(input('Enter the length of list 2 which includes the multiples: '))\n",
        "  a = []\n",
        "  l = []\n",
        "\n",
        "  for i in range(n):\n",
        "    a.append(i)\n",
        "  for i in range(m):\n",
        "    x = int(input('Enter the multiples of list 2: '))\n",
        "    l.append(x)\n",
        "    \n",
        "  cal(a,l)\n",
        "\n",
        "def cal(a,l):\n",
        "  c = 0\n",
        "  for i in a:       \n",
        "    for j in l:\n",
        "      if i % j == 0:\n",
        "        c += i\n",
        "        break\n",
        "  print(c)\n",
        "\n",
        "list()\n"
      ],
      "metadata": {
        "id": "3q5CD74LbH8r"
      },
      "execution_count": null,
      "outputs": []
    },
    {
      "cell_type": "code",
      "source": [
        "#s([2,3,5],[1,2,3,4,5,6,7,8,9,15,9])\n",
        "#61\n",
        "def s(a,l):\n",
        "  total=0\n",
        "\n",
        "  for i in l:\n",
        "    for j in a:\n",
        "      if i%j==0:\n",
        "        total+=i\n",
        "        break\n",
        "  return total\n",
        "\n",
        "\n",
        "s([2,3,5],[1,2,3,4,5,6,7,8,9,15,9])"
      ],
      "metadata": {
        "id": "qkGK9esigBjQ"
      },
      "execution_count": null,
      "outputs": []
    },
    {
      "cell_type": "code",
      "source": [
        "#s([2,3,5],range(1000))\n",
        "#366832\n",
        "\n",
        "def s(a,l):\n",
        "  total=0\n",
        "\n",
        "  for i in l:\n",
        "    for j in a:\n",
        "      if i%j==0:\n",
        "        total+=i\n",
        "        break\n",
        "  return total\n",
        "\n",
        "s([2,3,5],range(1000))"
      ],
      "metadata": {
        "id": "bnlZTfJigEZ7"
      },
      "execution_count": null,
      "outputs": []
    },
    {
      "cell_type": "code",
      "source": [
        "#s([2,3,5,7],range(1000))\n",
        "#385788\n",
        "\n",
        "def s(a,l):\n",
        "  total=0\n",
        "\n",
        "  for i in l:\n",
        "    for j in a:\n",
        "      if i%j==0:\n",
        "        total+=i\n",
        "        break\n",
        "  return total\n",
        "\n",
        "s([2,3,5,7],range(1000))"
      ],
      "metadata": {
        "id": "IWQBU812gHRv"
      },
      "execution_count": null,
      "outputs": []
    }
  ]
}